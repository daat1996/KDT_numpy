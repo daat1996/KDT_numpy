{
 "cells": [
  {
   "cell_type": "markdown",
   "id": "100b5b58-86f4-4e6d-9191-748bd09e5f6b",
   "metadata": {},
   "source": [
    "## 서울시 지하철 역별 이용개수 데이터에서 다음을 계산하세요"
   ]
  },
  {
   "cell_type": "markdown",
   "id": "908a09da-6e5b-4abe-a3e4-003e30914b10",
   "metadata": {},
   "source": [
    "### 1.각 지하철 역별 평균 이용객수"
   ]
  },
  {
   "cell_type": "code",
   "execution_count": 19,
   "id": "71362311-dd40-46c7-8195-608eb58a01cd",
   "metadata": {},
   "outputs": [],
   "source": [
    "import pandas as pd\n",
    "import matplotlib.pyplot as plt\n",
    "import numpy as np\n",
    "%precision 3\n",
    "import koreanize_matplotlib"
   ]
  },
  {
   "cell_type": "code",
   "execution_count": 13,
   "id": "73d7fcc6-9e49-48a8-82d9-646209b3afdf",
   "metadata": {},
   "outputs": [
    {
     "data": {
      "text/html": [
       "<div>\n",
       "<style scoped>\n",
       "    .dataframe tbody tr th:only-of-type {\n",
       "        vertical-align: middle;\n",
       "    }\n",
       "\n",
       "    .dataframe tbody tr th {\n",
       "        vertical-align: top;\n",
       "    }\n",
       "\n",
       "    .dataframe thead th {\n",
       "        text-align: right;\n",
       "    }\n",
       "</style>\n",
       "<table border=\"1\" class=\"dataframe\">\n",
       "  <thead>\n",
       "    <tr style=\"text-align: right;\">\n",
       "      <th></th>\n",
       "      <th>사용일자</th>\n",
       "      <th>호선명</th>\n",
       "      <th>역명</th>\n",
       "      <th>승차총승객수</th>\n",
       "      <th>하차총승객수</th>\n",
       "      <th>등록일자</th>\n",
       "    </tr>\n",
       "  </thead>\n",
       "  <tbody>\n",
       "    <tr>\n",
       "      <th>0</th>\n",
       "      <td>20240212</td>\n",
       "      <td>우이신설선</td>\n",
       "      <td>4.19민주묘지</td>\n",
       "      <td>1964</td>\n",
       "      <td>1773</td>\n",
       "      <td>20240215</td>\n",
       "    </tr>\n",
       "    <tr>\n",
       "      <th>1</th>\n",
       "      <td>20240212</td>\n",
       "      <td>경원선</td>\n",
       "      <td>가능</td>\n",
       "      <td>3917</td>\n",
       "      <td>3600</td>\n",
       "      <td>20240215</td>\n",
       "    </tr>\n",
       "    <tr>\n",
       "      <th>2</th>\n",
       "      <td>20240212</td>\n",
       "      <td>3호선</td>\n",
       "      <td>가락시장</td>\n",
       "      <td>3871</td>\n",
       "      <td>4054</td>\n",
       "      <td>20240215</td>\n",
       "    </tr>\n",
       "    <tr>\n",
       "      <th>3</th>\n",
       "      <td>20240212</td>\n",
       "      <td>8호선</td>\n",
       "      <td>가락시장</td>\n",
       "      <td>3306</td>\n",
       "      <td>4148</td>\n",
       "      <td>20240215</td>\n",
       "    </tr>\n",
       "    <tr>\n",
       "      <th>4</th>\n",
       "      <td>20240212</td>\n",
       "      <td>7호선</td>\n",
       "      <td>가산디지털단지</td>\n",
       "      <td>10044</td>\n",
       "      <td>10367</td>\n",
       "      <td>20240215</td>\n",
       "    </tr>\n",
       "    <tr>\n",
       "      <th>...</th>\n",
       "      <td>...</td>\n",
       "      <td>...</td>\n",
       "      <td>...</td>\n",
       "      <td>...</td>\n",
       "      <td>...</td>\n",
       "      <td>...</td>\n",
       "    </tr>\n",
       "    <tr>\n",
       "      <th>608</th>\n",
       "      <td>20240212</td>\n",
       "      <td>경원선</td>\n",
       "      <td>회룡</td>\n",
       "      <td>7555</td>\n",
       "      <td>7235</td>\n",
       "      <td>20240215</td>\n",
       "    </tr>\n",
       "    <tr>\n",
       "      <th>609</th>\n",
       "      <td>20240212</td>\n",
       "      <td>4호선</td>\n",
       "      <td>회현(남대문시장)</td>\n",
       "      <td>11719</td>\n",
       "      <td>12414</td>\n",
       "      <td>20240215</td>\n",
       "    </tr>\n",
       "    <tr>\n",
       "      <th>610</th>\n",
       "      <td>20240212</td>\n",
       "      <td>경의선</td>\n",
       "      <td>효창공원앞</td>\n",
       "      <td>1161</td>\n",
       "      <td>1565</td>\n",
       "      <td>20240215</td>\n",
       "    </tr>\n",
       "    <tr>\n",
       "      <th>611</th>\n",
       "      <td>20240212</td>\n",
       "      <td>6호선</td>\n",
       "      <td>효창공원앞</td>\n",
       "      <td>3131</td>\n",
       "      <td>2862</td>\n",
       "      <td>20240215</td>\n",
       "    </tr>\n",
       "    <tr>\n",
       "      <th>612</th>\n",
       "      <td>20240212</td>\n",
       "      <td>9호선</td>\n",
       "      <td>흑석(중앙대입구)</td>\n",
       "      <td>3639</td>\n",
       "      <td>4088</td>\n",
       "      <td>20240215</td>\n",
       "    </tr>\n",
       "  </tbody>\n",
       "</table>\n",
       "<p>613 rows × 6 columns</p>\n",
       "</div>"
      ],
      "text/plain": [
       "         사용일자    호선명         역명  승차총승객수  하차총승객수      등록일자\n",
       "0    20240212  우이신설선   4.19민주묘지    1964    1773  20240215\n",
       "1    20240212    경원선         가능    3917    3600  20240215\n",
       "2    20240212    3호선       가락시장    3871    4054  20240215\n",
       "3    20240212    8호선       가락시장    3306    4148  20240215\n",
       "4    20240212    7호선    가산디지털단지   10044   10367  20240215\n",
       "..        ...    ...        ...     ...     ...       ...\n",
       "608  20240212    경원선         회룡    7555    7235  20240215\n",
       "609  20240212    4호선  회현(남대문시장)   11719   12414  20240215\n",
       "610  20240212    경의선      효창공원앞    1161    1565  20240215\n",
       "611  20240212    6호선      효창공원앞    3131    2862  20240215\n",
       "612  20240212    9호선  흑석(중앙대입구)    3639    4088  20240215\n",
       "\n",
       "[613 rows x 6 columns]"
      ]
     },
     "execution_count": 13,
     "metadata": {},
     "output_type": "execute_result"
    }
   ],
   "source": [
    "Df = pd.read_csv('./서울시 지하철호선별 역별 승하차 인원 정보.csv', encoding='cp949')\n",
    "Df1=Df[Df['사용일자'] == 20240212]\n",
    "Df1"
   ]
  },
  {
   "cell_type": "code",
   "execution_count": 16,
   "id": "f4eb0f09-3c43-4413-9d52-dd6aa1035dac",
   "metadata": {},
   "outputs": [
    {
     "name": "stderr",
     "output_type": "stream",
     "text": [
      "C:\\Users\\KDP-23\\AppData\\Local\\Temp\\ipykernel_24336\\1539905905.py:1: SettingWithCopyWarning: \n",
      "A value is trying to be set on a copy of a slice from a DataFrame.\n",
      "Try using .loc[row_indexer,col_indexer] = value instead\n",
      "\n",
      "See the caveats in the documentation: https://pandas.pydata.org/pandas-docs/stable/user_guide/indexing.html#returning-a-view-versus-a-copy\n",
      "  Df1['이용객수'] = Df1['승차총승객수'] + Df1['하차총승객수']\n"
     ]
    },
    {
     "data": {
      "text/html": [
       "<div>\n",
       "<style scoped>\n",
       "    .dataframe tbody tr th:only-of-type {\n",
       "        vertical-align: middle;\n",
       "    }\n",
       "\n",
       "    .dataframe tbody tr th {\n",
       "        vertical-align: top;\n",
       "    }\n",
       "\n",
       "    .dataframe thead th {\n",
       "        text-align: right;\n",
       "    }\n",
       "</style>\n",
       "<table border=\"1\" class=\"dataframe\">\n",
       "  <thead>\n",
       "    <tr style=\"text-align: right;\">\n",
       "      <th></th>\n",
       "      <th>사용일자</th>\n",
       "      <th>호선명</th>\n",
       "      <th>역명</th>\n",
       "      <th>승차총승객수</th>\n",
       "      <th>하차총승객수</th>\n",
       "      <th>등록일자</th>\n",
       "      <th>이용객수</th>\n",
       "    </tr>\n",
       "  </thead>\n",
       "  <tbody>\n",
       "    <tr>\n",
       "      <th>0</th>\n",
       "      <td>20240212</td>\n",
       "      <td>우이신설선</td>\n",
       "      <td>4.19민주묘지</td>\n",
       "      <td>1964</td>\n",
       "      <td>1773</td>\n",
       "      <td>20240215</td>\n",
       "      <td>3737</td>\n",
       "    </tr>\n",
       "    <tr>\n",
       "      <th>1</th>\n",
       "      <td>20240212</td>\n",
       "      <td>경원선</td>\n",
       "      <td>가능</td>\n",
       "      <td>3917</td>\n",
       "      <td>3600</td>\n",
       "      <td>20240215</td>\n",
       "      <td>7517</td>\n",
       "    </tr>\n",
       "    <tr>\n",
       "      <th>2</th>\n",
       "      <td>20240212</td>\n",
       "      <td>3호선</td>\n",
       "      <td>가락시장</td>\n",
       "      <td>3871</td>\n",
       "      <td>4054</td>\n",
       "      <td>20240215</td>\n",
       "      <td>7925</td>\n",
       "    </tr>\n",
       "    <tr>\n",
       "      <th>3</th>\n",
       "      <td>20240212</td>\n",
       "      <td>8호선</td>\n",
       "      <td>가락시장</td>\n",
       "      <td>3306</td>\n",
       "      <td>4148</td>\n",
       "      <td>20240215</td>\n",
       "      <td>7454</td>\n",
       "    </tr>\n",
       "    <tr>\n",
       "      <th>4</th>\n",
       "      <td>20240212</td>\n",
       "      <td>7호선</td>\n",
       "      <td>가산디지털단지</td>\n",
       "      <td>10044</td>\n",
       "      <td>10367</td>\n",
       "      <td>20240215</td>\n",
       "      <td>20411</td>\n",
       "    </tr>\n",
       "    <tr>\n",
       "      <th>...</th>\n",
       "      <td>...</td>\n",
       "      <td>...</td>\n",
       "      <td>...</td>\n",
       "      <td>...</td>\n",
       "      <td>...</td>\n",
       "      <td>...</td>\n",
       "      <td>...</td>\n",
       "    </tr>\n",
       "    <tr>\n",
       "      <th>608</th>\n",
       "      <td>20240212</td>\n",
       "      <td>경원선</td>\n",
       "      <td>회룡</td>\n",
       "      <td>7555</td>\n",
       "      <td>7235</td>\n",
       "      <td>20240215</td>\n",
       "      <td>14790</td>\n",
       "    </tr>\n",
       "    <tr>\n",
       "      <th>609</th>\n",
       "      <td>20240212</td>\n",
       "      <td>4호선</td>\n",
       "      <td>회현(남대문시장)</td>\n",
       "      <td>11719</td>\n",
       "      <td>12414</td>\n",
       "      <td>20240215</td>\n",
       "      <td>24133</td>\n",
       "    </tr>\n",
       "    <tr>\n",
       "      <th>610</th>\n",
       "      <td>20240212</td>\n",
       "      <td>경의선</td>\n",
       "      <td>효창공원앞</td>\n",
       "      <td>1161</td>\n",
       "      <td>1565</td>\n",
       "      <td>20240215</td>\n",
       "      <td>2726</td>\n",
       "    </tr>\n",
       "    <tr>\n",
       "      <th>611</th>\n",
       "      <td>20240212</td>\n",
       "      <td>6호선</td>\n",
       "      <td>효창공원앞</td>\n",
       "      <td>3131</td>\n",
       "      <td>2862</td>\n",
       "      <td>20240215</td>\n",
       "      <td>5993</td>\n",
       "    </tr>\n",
       "    <tr>\n",
       "      <th>612</th>\n",
       "      <td>20240212</td>\n",
       "      <td>9호선</td>\n",
       "      <td>흑석(중앙대입구)</td>\n",
       "      <td>3639</td>\n",
       "      <td>4088</td>\n",
       "      <td>20240215</td>\n",
       "      <td>7727</td>\n",
       "    </tr>\n",
       "  </tbody>\n",
       "</table>\n",
       "<p>613 rows × 7 columns</p>\n",
       "</div>"
      ],
      "text/plain": [
       "         사용일자    호선명         역명  승차총승객수  하차총승객수      등록일자   이용객수\n",
       "0    20240212  우이신설선   4.19민주묘지    1964    1773  20240215   3737\n",
       "1    20240212    경원선         가능    3917    3600  20240215   7517\n",
       "2    20240212    3호선       가락시장    3871    4054  20240215   7925\n",
       "3    20240212    8호선       가락시장    3306    4148  20240215   7454\n",
       "4    20240212    7호선    가산디지털단지   10044   10367  20240215  20411\n",
       "..        ...    ...        ...     ...     ...       ...    ...\n",
       "608  20240212    경원선         회룡    7555    7235  20240215  14790\n",
       "609  20240212    4호선  회현(남대문시장)   11719   12414  20240215  24133\n",
       "610  20240212    경의선      효창공원앞    1161    1565  20240215   2726\n",
       "611  20240212    6호선      효창공원앞    3131    2862  20240215   5993\n",
       "612  20240212    9호선  흑석(중앙대입구)    3639    4088  20240215   7727\n",
       "\n",
       "[613 rows x 7 columns]"
      ]
     },
     "execution_count": 16,
     "metadata": {},
     "output_type": "execute_result"
    }
   ],
   "source": [
    "Df1['이용객수'] = Df1['승차총승객수'] + Df1['하차총승객수']\n",
    "Df1"
   ]
  },
  {
   "cell_type": "code",
   "execution_count": 20,
   "id": "a910ddf8-4853-4474-9f16-f8e3582c82de",
   "metadata": {},
   "outputs": [
    {
     "data": {
      "text/plain": [
       "12281.119"
      ]
     },
     "execution_count": 20,
     "metadata": {},
     "output_type": "execute_result"
    }
   ],
   "source": [
    "Df1['이용객수'].mean()         # 이용객수 평균값"
   ]
  },
  {
   "cell_type": "markdown",
   "id": "c47d2339-32f3-4af4-ba43-b6f1ef944f4e",
   "metadata": {},
   "source": [
    "### 2.각 지하철 역별 이용객수의 표준편차"
   ]
  },
  {
   "cell_type": "code",
   "execution_count": 24,
   "id": "409959d6-f083-48ab-a557-10f338e82ec0",
   "metadata": {},
   "outputs": [
    {
     "data": {
      "text/plain": [
       "13033.649"
      ]
     },
     "execution_count": 24,
     "metadata": {},
     "output_type": "execute_result"
    }
   ],
   "source": [
    "Df1['이용객수'].std(ddof=0)        # 표준편차"
   ]
  },
  {
   "cell_type": "markdown",
   "id": "9848dec3-c6cf-4865-8766-b5317ddb1721",
   "metadata": {},
   "source": [
    "### 3.가장 많은 이용객이 있는 역의 이용객수"
   ]
  },
  {
   "cell_type": "code",
   "execution_count": 29,
   "id": "ae64faed-b14f-4a22-a1ad-c4e648421f35",
   "metadata": {},
   "outputs": [],
   "source": [
    "Df1.set_index('역명', inplace=True)"
   ]
  },
  {
   "cell_type": "code",
   "execution_count": 30,
   "id": "df8b4b25-3de5-438a-af09-c222c312facd",
   "metadata": {},
   "outputs": [
    {
     "data": {
      "text/plain": [
       "'홍대입구'"
      ]
     },
     "execution_count": 30,
     "metadata": {},
     "output_type": "execute_result"
    }
   ],
   "source": [
    "Df1['이용객수'].idxmax()"
   ]
  },
  {
   "cell_type": "code",
   "execution_count": 31,
   "id": "20d045b9-7f28-434c-b2a8-ddcf2f2bd399",
   "metadata": {},
   "outputs": [
    {
     "data": {
      "text/html": [
       "<div>\n",
       "<style scoped>\n",
       "    .dataframe tbody tr th:only-of-type {\n",
       "        vertical-align: middle;\n",
       "    }\n",
       "\n",
       "    .dataframe tbody tr th {\n",
       "        vertical-align: top;\n",
       "    }\n",
       "\n",
       "    .dataframe thead th {\n",
       "        text-align: right;\n",
       "    }\n",
       "</style>\n",
       "<table border=\"1\" class=\"dataframe\">\n",
       "  <thead>\n",
       "    <tr style=\"text-align: right;\">\n",
       "      <th></th>\n",
       "      <th>사용일자</th>\n",
       "      <th>호선명</th>\n",
       "      <th>승차총승객수</th>\n",
       "      <th>하차총승객수</th>\n",
       "      <th>등록일자</th>\n",
       "      <th>이용객수</th>\n",
       "    </tr>\n",
       "    <tr>\n",
       "      <th>역명</th>\n",
       "      <th></th>\n",
       "      <th></th>\n",
       "      <th></th>\n",
       "      <th></th>\n",
       "      <th></th>\n",
       "      <th></th>\n",
       "    </tr>\n",
       "  </thead>\n",
       "  <tbody>\n",
       "    <tr>\n",
       "      <th>홍대입구</th>\n",
       "      <td>20240212</td>\n",
       "      <td>경의선</td>\n",
       "      <td>1807</td>\n",
       "      <td>2409</td>\n",
       "      <td>20240215</td>\n",
       "      <td>4216</td>\n",
       "    </tr>\n",
       "    <tr>\n",
       "      <th>홍대입구</th>\n",
       "      <td>20240212</td>\n",
       "      <td>2호선</td>\n",
       "      <td>61416</td>\n",
       "      <td>61094</td>\n",
       "      <td>20240215</td>\n",
       "      <td>122510</td>\n",
       "    </tr>\n",
       "    <tr>\n",
       "      <th>홍대입구</th>\n",
       "      <td>20240212</td>\n",
       "      <td>공항철도 1호선</td>\n",
       "      <td>13371</td>\n",
       "      <td>13044</td>\n",
       "      <td>20240215</td>\n",
       "      <td>26415</td>\n",
       "    </tr>\n",
       "  </tbody>\n",
       "</table>\n",
       "</div>"
      ],
      "text/plain": [
       "          사용일자       호선명  승차총승객수  하차총승객수      등록일자    이용객수\n",
       "역명                                                        \n",
       "홍대입구  20240212       경의선    1807    2409  20240215    4216\n",
       "홍대입구  20240212       2호선   61416   61094  20240215  122510\n",
       "홍대입구  20240212  공항철도 1호선   13371   13044  20240215   26415"
      ]
     },
     "execution_count": 31,
     "metadata": {},
     "output_type": "execute_result"
    }
   ],
   "source": [
    "Df1.loc['홍대입구']        # 같은 역명이라도 합칠 필요가 있다."
   ]
  },
  {
   "cell_type": "code",
   "execution_count": 61,
   "id": "0b54b55e-4000-4e0b-9996-aa20f7f1fe7a",
   "metadata": {},
   "outputs": [
    {
     "data": {
      "text/html": [
       "<div>\n",
       "<style scoped>\n",
       "    .dataframe tbody tr th:only-of-type {\n",
       "        vertical-align: middle;\n",
       "    }\n",
       "\n",
       "    .dataframe tbody tr th {\n",
       "        vertical-align: top;\n",
       "    }\n",
       "\n",
       "    .dataframe thead th {\n",
       "        text-align: right;\n",
       "    }\n",
       "</style>\n",
       "<table border=\"1\" class=\"dataframe\">\n",
       "  <thead>\n",
       "    <tr style=\"text-align: right;\">\n",
       "      <th></th>\n",
       "      <th>승차총승객수</th>\n",
       "      <th>하차총승객수</th>\n",
       "      <th>이용객수</th>\n",
       "    </tr>\n",
       "    <tr>\n",
       "      <th>역명</th>\n",
       "      <th></th>\n",
       "      <th></th>\n",
       "      <th></th>\n",
       "    </tr>\n",
       "  </thead>\n",
       "  <tbody>\n",
       "    <tr>\n",
       "      <th>4.19민주묘지</th>\n",
       "      <td>1964</td>\n",
       "      <td>1773</td>\n",
       "      <td>3737</td>\n",
       "    </tr>\n",
       "    <tr>\n",
       "      <th>가능</th>\n",
       "      <td>3917</td>\n",
       "      <td>3600</td>\n",
       "      <td>7517</td>\n",
       "    </tr>\n",
       "    <tr>\n",
       "      <th>가락시장</th>\n",
       "      <td>7177</td>\n",
       "      <td>8202</td>\n",
       "      <td>15379</td>\n",
       "    </tr>\n",
       "    <tr>\n",
       "      <th>가산디지털단지</th>\n",
       "      <td>15263</td>\n",
       "      <td>17421</td>\n",
       "      <td>32684</td>\n",
       "    </tr>\n",
       "    <tr>\n",
       "      <th>가양</th>\n",
       "      <td>9554</td>\n",
       "      <td>10492</td>\n",
       "      <td>20046</td>\n",
       "    </tr>\n",
       "    <tr>\n",
       "      <th>...</th>\n",
       "      <td>...</td>\n",
       "      <td>...</td>\n",
       "      <td>...</td>\n",
       "    </tr>\n",
       "    <tr>\n",
       "      <th>회기</th>\n",
       "      <td>12204</td>\n",
       "      <td>14013</td>\n",
       "      <td>26217</td>\n",
       "    </tr>\n",
       "    <tr>\n",
       "      <th>회룡</th>\n",
       "      <td>7555</td>\n",
       "      <td>7235</td>\n",
       "      <td>14790</td>\n",
       "    </tr>\n",
       "    <tr>\n",
       "      <th>회현(남대문시장)</th>\n",
       "      <td>11719</td>\n",
       "      <td>12414</td>\n",
       "      <td>24133</td>\n",
       "    </tr>\n",
       "    <tr>\n",
       "      <th>효창공원앞</th>\n",
       "      <td>4292</td>\n",
       "      <td>4427</td>\n",
       "      <td>8719</td>\n",
       "    </tr>\n",
       "    <tr>\n",
       "      <th>흑석(중앙대입구)</th>\n",
       "      <td>3639</td>\n",
       "      <td>4088</td>\n",
       "      <td>7727</td>\n",
       "    </tr>\n",
       "  </tbody>\n",
       "</table>\n",
       "<p>526 rows × 3 columns</p>\n",
       "</div>"
      ],
      "text/plain": [
       "           승차총승객수  하차총승객수   이용객수\n",
       "역명                              \n",
       "4.19민주묘지     1964    1773   3737\n",
       "가능           3917    3600   7517\n",
       "가락시장         7177    8202  15379\n",
       "가산디지털단지     15263   17421  32684\n",
       "가양           9554   10492  20046\n",
       "...           ...     ...    ...\n",
       "회기          12204   14013  26217\n",
       "회룡           7555    7235  14790\n",
       "회현(남대문시장)   11719   12414  24133\n",
       "효창공원앞        4292    4427   8719\n",
       "흑석(중앙대입구)    3639    4088   7727\n",
       "\n",
       "[526 rows x 3 columns]"
      ]
     },
     "execution_count": 61,
     "metadata": {},
     "output_type": "execute_result"
    }
   ],
   "source": [
    "Df2 = Df1.groupby('역명').sum()[['승차총승객수','하차총승객수','이용객수']]\n",
    "Df2"
   ]
  },
  {
   "cell_type": "markdown",
   "id": "cc3ad190-d017-4fc3-90bc-f6eb75cd82e1",
   "metadata": {},
   "source": [
    "### 1. 평균값"
   ]
  },
  {
   "cell_type": "code",
   "execution_count": 62,
   "id": "16d48125-0e55-4e15-afcd-656d07181960",
   "metadata": {},
   "outputs": [
    {
     "data": {
      "text/plain": [
       "14312.407"
      ]
     },
     "execution_count": 62,
     "metadata": {},
     "output_type": "execute_result"
    }
   ],
   "source": [
    "Df2['이용객수'].mean()         # 이용객수 진짜 평균값"
   ]
  },
  {
   "cell_type": "markdown",
   "id": "8d56531e-8f34-4548-86ef-9ad555d7f837",
   "metadata": {},
   "source": [
    "### 2.표준편차"
   ]
  },
  {
   "cell_type": "code",
   "execution_count": 63,
   "id": "bb4ab0cf-118c-4b60-8524-e4981a9ebb16",
   "metadata": {},
   "outputs": [
    {
     "data": {
      "text/plain": [
       "17335.791"
      ]
     },
     "execution_count": 63,
     "metadata": {},
     "output_type": "execute_result"
    }
   ],
   "source": [
    "Df2['이용객수'].std()"
   ]
  },
  {
   "cell_type": "markdown",
   "id": "b406bbd6-e900-480d-8cd6-cebe66e5eb57",
   "metadata": {},
   "source": [
    "### 3.가장 많은 이용객이 있는 역"
   ]
  },
  {
   "cell_type": "code",
   "execution_count": 70,
   "id": "a84edac9-300b-4c9c-9a0d-9c783bbcaef9",
   "metadata": {},
   "outputs": [
    {
     "data": {
      "text/plain": [
       "153141"
      ]
     },
     "execution_count": 70,
     "metadata": {},
     "output_type": "execute_result"
    }
   ],
   "source": [
    "Df2['이용객수'].max()"
   ]
  },
  {
   "cell_type": "markdown",
   "id": "55abe7be-e5b8-4108-a748-6ab2ce13c3fb",
   "metadata": {},
   "source": [
    "### 4.가장 적은 이용객이 있는 역과 그 수"
   ]
  },
  {
   "cell_type": "code",
   "execution_count": 69,
   "id": "08d857de-05d1-4785-9bf8-f7ce58ef95d5",
   "metadata": {},
   "outputs": [
    {
     "data": {
      "text/plain": [
       "13"
      ]
     },
     "execution_count": 69,
     "metadata": {},
     "output_type": "execute_result"
    }
   ],
   "source": [
    "Df2['이용객수'].min()"
   ]
  },
  {
   "cell_type": "markdown",
   "id": "046cc6da-f428-40b6-beef-911ab6a795c5",
   "metadata": {},
   "source": [
    "### 5.이용객수가 가장 많은 역의 이름"
   ]
  },
  {
   "cell_type": "code",
   "execution_count": 71,
   "id": "1998bbc1-b516-4344-96a0-fab09653dde0",
   "metadata": {},
   "outputs": [
    {
     "data": {
      "text/plain": [
       "'홍대입구'"
      ]
     },
     "execution_count": 71,
     "metadata": {},
     "output_type": "execute_result"
    }
   ],
   "source": [
    "Df2['이용객수'].idxmax()"
   ]
  },
  {
   "cell_type": "markdown",
   "id": "3940f9a7-b970-422d-899a-f1aaa9e7b53a",
   "metadata": {},
   "source": [
    "### 6.이용객수가 가장 적은 역의 이름"
   ]
  },
  {
   "cell_type": "code",
   "execution_count": 72,
   "id": "f6f189ea-d5fc-4d83-8ab5-e17d2acda79e",
   "metadata": {},
   "outputs": [
    {
     "data": {
      "text/plain": [
       "'운천'"
      ]
     },
     "execution_count": 72,
     "metadata": {},
     "output_type": "execute_result"
    }
   ],
   "source": [
    "Df2['이용객수'].idxmin()"
   ]
  },
  {
   "cell_type": "markdown",
   "id": "e613506a-947a-47dd-8234-955ccbd88fc9",
   "metadata": {},
   "source": [
    "### 7.이용객수 분포 히스토그램으로 시각화"
   ]
  },
  {
   "cell_type": "code",
   "execution_count": 74,
   "id": "e0becc58-251b-40f1-84ae-e341de3f6000",
   "metadata": {
    "scrolled": true
   },
   "outputs": [],
   "source": [
    "users=np.array(Df2['이용객수'])"
   ]
  },
  {
   "cell_type": "code",
   "execution_count": 84,
   "id": "d22202ef-bf0a-4509-b046-0cd72345b919",
   "metadata": {},
   "outputs": [
    {
     "data": {
      "text/plain": [
       "array([  3737,   7517,  15379,  32684,  20046,   4479,   5894,   6548,\n",
       "         3255,   6659,   2680,  61040,  13907,  16659,   9188,   3018,\n",
       "        45164,   5741,    874,   5806,  23465,   4175,   2083,   6021,\n",
       "         8612,  66879,   7264,   8831,    957,  35556,   6128,  13189,\n",
       "         9529,   6956,   4269, 152970,   8555,    747,   3819,  31692,\n",
       "        12311,   3455,   1953,   7014,   9623,   5549,  13742,   5845,\n",
       "        22116,   8429,  30172,   6898,  27748,  19636,  47425,   2539,\n",
       "        15470,    674,   7215,   5232,  22600,   6208,  24874,    949,\n",
       "         5727,  26802,   6226,    261,  10959,   1612,   6648,  30936,\n",
       "        12371,   9471,   8353,  10151,   8674,  20581,    750,  52751,\n",
       "        29781,  27462,  13121,   1139,  33102,  11014,   8089,   6600,\n",
       "         5775,   1342,  12309,  10024,   4328,  40290,  67060,  13754,\n",
       "         6319,   5225,   4023,  12417,   5274,  11934,    140,  13665,\n",
       "        11158,   4883,  33373,   6192,   2605,  10449,  47948,   5087,\n",
       "        12059,    823,   5782,   9183,  11396,  11477,   7161,   5835,\n",
       "         6760,   7259,  10605,  10858,   1187,   6460,  25062,   2285,\n",
       "         3645,   4621,   9418,   3160,  12576,  11272,  34714,  43174,\n",
       "        14361,   2229,   4064,  37172,  19677,  18259,   5167,  10652,\n",
       "         8351,    891,  10430,  22741,  20838,  11950,   8094,  19531,\n",
       "         7540,  12327,   4734,   5385,   7097,  11074,  12227,   9220,\n",
       "        19012,   8385,  14288,   4988,   8258,   5564,  10477,  15023,\n",
       "        49462,   8820,   6202,  27174,  14780,   6384,   4437,  15260,\n",
       "         7624,   9948,  15196,  20049,  15129,  31739,   5070,   6288,\n",
       "        19846,  10831,   6682,  11656,   7395,   2093,   7349,  11794,\n",
       "          845,   8422,   2132,  30951,   3434,  22216,   9673,   2119,\n",
       "         4510,   9401,   2696,   2492,   7029,   1641,  19310,  23478,\n",
       "         7759,   9457,   3530,  45512,   2067,  48056,   6934,   6620,\n",
       "        27481,  16894,  71964,   2379,   5821,   3435,  19960,   6797,\n",
       "        13423,   2326,  37135,   4182,  23198,   2346,   3082,   7481,\n",
       "         6068,  20728,   9905,  18001,  26850,  13256,  13458,   5619,\n",
       "        13091,    387,  12538,   5867,   2216,   9916,   2129,   1812,\n",
       "        10788,  46842,  12119, 128280,   3016,   3674,  13446,  10106,\n",
       "        27805,  22638,   9243,  18971,   6766,  30957,   6137,   5712,\n",
       "         9076,  17900,  40847,  29817,   6352,   5169,   4090,    620,\n",
       "         7848,   9150,   4856,   2916,   5657,  24953,   3140,   7035,\n",
       "         8294,   8857,   6064,  11736,  14762,   3902,   2534,  38754,\n",
       "        92979,  14856,  39914,   5408,  11843,  11545,   4272,  38492,\n",
       "         4067,   6091,  12441,   2681,   2193,  31105,   1548,  26160,\n",
       "        28571,  14211,  54927,   1952,  64320,   3414,   3315,   6990,\n",
       "        23603,  20579,  22005,    239,   8801,  11905,  10620,   1949,\n",
       "        41497,   2375,  10285,   6296,  29921,   3098,   6766,    877,\n",
       "        19171,   9867,  32646,  20653,   8652,  26675,  17091,  28212,\n",
       "        18676,   5003,  11817,    409,  26539,  16913,   3098,   2791,\n",
       "        24616,    520,   9462,   6766,   8541,   9902,  13258,   2073,\n",
       "         5602,  15862,  37535,   4997,  28364,  20537,   4293,   6129,\n",
       "        39224,   3885,  16886,  71256,  19220,  11074,   5637,   9873,\n",
       "         7555,  12901,  10012,  22770,   3952,    360,  18543,   4927,\n",
       "        11860,  10463,  14052,  10302,  10531,  42154,   8691,   3070,\n",
       "         2187,   6423,   3445,  77413,  13882,   1508,  14330,   8136,\n",
       "           13,  12326,    628,   5631,   5792,  11528,   7070,  10321,\n",
       "         3382,   7773,   2053,  25917,  13364,  46631,   2317,  18636,\n",
       "         9030,  28554,  15509,   6821,  15668,   5220,  16609,  17269,\n",
       "        22139,  11322,  25972,  11535,   6474,   6518,  11185,   7721,\n",
       "          125, 128526,  10585,  23949,   4465,   8419,   2008,  18343,\n",
       "        15432,   2311,   5151,   9109,   8848,  12726,  14742,  19460,\n",
       "        10431,  30099,  70523,  26109,  10794,  22828,  10407,  16604,\n",
       "        12577,   9987,  10139,   6409,  25457,   7673,  10196,   4963,\n",
       "        10856,   6836,     87,   9300,   1446,   1931,  29737,   3001,\n",
       "         1945,  13873,   9548,  42474,  20131,   6756,  11010,   7804,\n",
       "        58078,   4361,    211,   2878,   3699,   5508,  21036,   3115,\n",
       "        22553,   8989,   8405,   2221,  16164,  15318,   3716,   1473,\n",
       "         7004,   2196,   6794,  12779,  27190,   7195,   7151,  17089,\n",
       "        10361,   9153,   4422,   9466,   1411,  12259,   1651,   3951,\n",
       "        10201,  14505,   2673,   4871,  15209,  55171,   7110,   9543,\n",
       "        45560,   3611, 153141,  19099,   4062,  27700,   9117,  36784,\n",
       "        19577,  26217,  14790,  24133,   8719,   7727], dtype=int64)"
      ]
     },
     "execution_count": 84,
     "metadata": {},
     "output_type": "execute_result"
    }
   ],
   "source": [
    "users"
   ]
  },
  {
   "cell_type": "code",
   "execution_count": 106,
   "id": "01f1d9de-0522-4dc6-8c4b-10ad1f8ab50a",
   "metadata": {},
   "outputs": [
    {
     "data": {
      "image/png": "[encoded data removed]",
      "text/plain": [
       "<Figure size 1000x600 with 1 Axes>"
      ]
     },
     "metadata": {},
     "output_type": "display_data"
    }
   ],
   "source": [
    "plt.figure(figsize=(10,6))\n",
    "plt.hist(users, bins=16,range=(0, 160000))\n",
    "plt.xlabel('이용객수')\n",
    "plt.ylabel('역의 수')\n",
    "plt.xticks(np.linspace(0,160000,17),rotation=30)\n",
    "plt.show()"
   ]
  },
  {
   "cell_type": "code",
   "execution_count": null,
   "id": "80b462f4-0cfe-4396-97bf-5447cc41a952",
   "metadata": {},
   "outputs": [],
   "source": []
  }
 ],
 "metadata": {
  "kernelspec": {
   "display_name": "Python 3 (ipykernel)",
   "language": "python",
   "name": "python3"
  },
  "language_info": {
   "codemirror_mode": {
    "name": "ipython",
    "version": 3
   },
   "file_extension": ".py",
   "mimetype": "text/x-python",
   "name": "python",
   "nbconvert_exporter": "python",
   "pygments_lexer": "ipython3",
   "version": "3.8.18"
  }
 },
 "nbformat": 4,
 "nbformat_minor": 5
}
