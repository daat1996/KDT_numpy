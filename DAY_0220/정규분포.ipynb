{
 "cells": [
  {
   "cell_type": "code",
   "execution_count": 2,
   "id": "initial_id",
   "metadata": {
    "collapsed": true,
    "ExecuteTime": {
     "end_time": "2024-02-20T06:48:58.877177800Z",
     "start_time": "2024-02-20T06:48:58.869862900Z"
    }
   },
   "outputs": [],
   "source": [
    "import numpy as np\n",
    "import matplotlib.pyplot as plt\n",
    "from scipy import stats, integrate\n",
    "from scipy.optimize import minimize_scalar\n",
    "\n",
    "%precision 3\n",
    "%matplotlib inline"
   ]
  },
  {
   "cell_type": "code",
   "outputs": [],
   "source": [
    "linestyles = ['-', '--', ':']\n",
    "\n",
    "def E(X, g=lambda x: x):\n",
    "    x_range, f = X\n",
    "    def integrand(x):\n",
    "        return g(x) * f(x)\n",
    "    return integrate.quad(integrand, -np.inf, np.inf)[0]\n",
    "\n",
    "def V(X, g=lambda x: x):\n",
    "    x_range, f = X\n",
    "    mean = E(X, g)\n",
    "    def integrand(x):\n",
    "        return (g(x) - mean) ** 2 * f(x)\n",
    "    return integrate.quad(integrand, -np.inf, np.inf)[0]"
   ],
   "metadata": {
    "collapsed": false,
    "ExecuteTime": {
     "end_time": "2024-02-20T06:50:00.233627100Z",
     "start_time": "2024-02-20T06:50:00.225301500Z"
    }
   },
   "id": "aa95fd445ede36d7",
   "execution_count": 3
  },
  {
   "cell_type": "code",
   "outputs": [],
   "source": [
    "def check_prob(X):\n",
    "    x_range, f =X\n",
    "    f_min = minimize_scalar(f).fun\n",
    "    assert f_min >=0, 'density function is minus value'\n",
    "    prob_sum = np.round(integrate.quad(f,-np.inf, np.inf)[0], 6)\n",
    "    assert prob_sum ==1, f'sum of probability is {prob_sum}'\n",
    "    print(f'expected value{E(X):.3f}')\n",
    "    print(f'variance{V(X):.3f}')\n",
    "\n",
    "def plot_prob(X, x_min, x_max):\n",
    "    x_range, f =X\n",
    "    def F(x):\n",
    "        return integrate.quad(f, -np.inf,x)[0]\n",
    "    \n",
    "    xs = np.linspace(x_min, x_max, 100)\n",
    "    \n",
    "    fig=plt.figure(figsize=(10,6))\n",
    "    ax=fig.add_subplot(111)\n",
    "    ax.plot(xs, [f(x) for x in xs],\n",
    "            label='f(x)', color = 'gray')\n",
    "    ax.plot(xs, [F(x) for x in xs],\n",
    "            label = 'F(x)',ls='--' ,color = 'gray')\n",
    "    \n",
    "    ax.legend()\n",
    "    plt.show()"
   ],
   "metadata": {
    "collapsed": false,
    "ExecuteTime": {
     "end_time": "2024-02-20T06:54:43.787078600Z",
     "start_time": "2024-02-20T06:54:43.781892700Z"
    }
   },
   "id": "ad4295dd2d441fac",
   "execution_count": 4
  },
  {
   "cell_type": "code",
   "outputs": [],
   "source": [],
   "metadata": {
    "collapsed": false
   },
   "id": "109d191ed0d7a200"
  }
 ],
 "metadata": {
  "kernelspec": {
   "display_name": "Python 3",
   "language": "python",
   "name": "python3"
  },
  "language_info": {
   "codemirror_mode": {
    "name": "ipython",
    "version": 2
   },
   "file_extension": ".py",
   "mimetype": "text/x-python",
   "name": "python",
   "nbconvert_exporter": "python",
   "pygments_lexer": "ipython2",
   "version": "2.7.6"
  }
 },
 "nbformat": 4,
 "nbformat_minor": 5
}
